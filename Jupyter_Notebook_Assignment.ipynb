{
 "cells": [
  {
   "cell_type": "markdown",
   "id": "846dd5ca-d960-43de-8a40-d1bd51b42d32",
   "metadata": {},
   "source": [
    "# My Jupyter Notebook on IBM Watson Studio\n"
   ]
  },
  {
   "cell_type": "markdown",
   "id": "9273fe30-52e2-46c2-9bf6-6127ae10ed90",
   "metadata": {},
   "source": [
    "__Sebastian Arredondo__      \n",
    "I am the sales manager of a bike company from Barcelona"
   ]
  },
  {
   "cell_type": "markdown",
   "id": "412f3e3c-cb54-41b5-b521-e823df183d39",
   "metadata": {},
   "source": [
    "### I made this code to add 1 + 2"
   ]
  },
  {
   "cell_type": "code",
   "execution_count": 3,
   "id": "f4682be1-113c-4622-a580-766f497ec466",
   "metadata": {},
   "outputs": [
    {
     "name": "stdout",
     "output_type": "stream",
     "text": [
      "3\n"
     ]
    }
   ],
   "source": [
    "# I created two variables\n",
    "x = 1\n",
    "y = 2\n",
    "\n",
    "# I express the result in a third variable\n",
    "z = x + y\n",
    "\n",
    "# I print the result below.\n",
    "print(z)\n"
   ]
  },
  {
   "cell_type": "markdown",
   "id": "ed52dbf1-2240-49d3-be6a-c026978552d2",
   "metadata": {},
   "source": [
    "* one  \n",
    "* two  \n",
    "* three\n",
    "* one  \n",
    "* two  \n",
    "* three"
   ]
  },
  {
   "cell_type": "markdown",
   "id": "a981509f-cd1d-44fc-96e4-a41d93166bcb",
   "metadata": {},
   "source": [
    "Markdown | Less | Pretty\n",
    "--- | --- | ---\n",
    "*Still* | `renders` | **nicely**\n",
    "1 | 2 | 3\n"
   ]
  },
  {
   "cell_type": "markdown",
   "id": "13293e13-f01b-43b8-848f-8d7108ac4888",
   "metadata": {},
   "source": [
    "https://www.google.com"
   ]
  },
  {
   "cell_type": "code",
   "execution_count": null,
   "id": "5fe1a202-5150-4741-ad85-5dc1597d7daa",
   "metadata": {},
   "outputs": [],
   "source": []
  }
 ],
 "metadata": {
  "kernelspec": {
   "display_name": "Python 3 (ipykernel)",
   "language": "python",
   "name": "python3"
  },
  "language_info": {
   "codemirror_mode": {
    "name": "ipython",
    "version": 3
   },
   "file_extension": ".py",
   "mimetype": "text/x-python",
   "name": "python",
   "nbconvert_exporter": "python",
   "pygments_lexer": "ipython3",
   "version": "3.9.13"
  }
 },
 "nbformat": 4,
 "nbformat_minor": 5
}
