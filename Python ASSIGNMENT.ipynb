{
    "cells": [
        {
            "cell_type": "markdown",
            "metadata": {
                "collapsed": true
            },
            "source": "__Sebastian Arredondo__      \nI am the sales manager of a bike company from Barcelona"
        },
        {
            "cell_type": "markdown",
            "metadata": {},
            "source": "### I made this code to add 1 + 2"
        },
        {
            "cell_type": "code",
            "execution_count": 1,
            "metadata": {},
            "outputs": [
                {
                    "name": "stdout",
                    "output_type": "stream",
                    "text": "3\n"
                }
            ],
            "source": "# I created two variables\nx = 1\ny = 2\n\n# I express the result in a third variable\nz = x + y\n\n# I print the result below.\nprint(z)\n"
        },
        {
            "cell_type": "markdown",
            "metadata": {},
            "source": "* one  \n* two  \n* three\n* one  \n* two  \n* three"
        },
        {
            "cell_type": "markdown",
            "metadata": {},
            "source": "Markdown | Less | Pretty\n--- | --- | ---\n*Still* | `renders` | **nicely**\n1 | 2 | 3\n"
        },
        {
            "cell_type": "markdown",
            "metadata": {},
            "source": "https://www.google.com"
        },
        {
            "cell_type": "code",
            "execution_count": null,
            "metadata": {},
            "outputs": [],
            "source": ""
        }
    ],
    "metadata": {
        "kernelspec": {
            "display_name": "Python 3.10",
            "language": "python",
            "name": "python3"
        },
        "language_info": {
            "codemirror_mode": {
                "name": "ipython",
                "version": 3
            },
            "file_extension": ".py",
            "mimetype": "text/x-python",
            "name": "python",
            "nbconvert_exporter": "python",
            "pygments_lexer": "ipython3",
            "version": "3.10.6"
        }
    },
    "nbformat": 4,
    "nbformat_minor": 1
}